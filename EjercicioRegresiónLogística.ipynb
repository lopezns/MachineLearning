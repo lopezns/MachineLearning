{
  "nbformat": 4,
  "nbformat_minor": 0,
  "metadata": {
    "colab": {
      "provenance": [],
      "include_colab_link": true
    },
    "kernelspec": {
      "name": "python3",
      "display_name": "Python 3"
    },
    "language_info": {
      "name": "python"
    }
  },
  "cells": [
    {
      "cell_type": "markdown",
      "metadata": {
        "id": "view-in-github",
        "colab_type": "text"
      },
      "source": [
        "<a href=\"https://colab.research.google.com/github/lopezns/MachineLearning/blob/main/EjercicioRegresi%C3%B3nLog%C3%ADstica.ipynb\" target=\"_parent\"><img src=\"https://colab.research.google.com/assets/colab-badge.svg\" alt=\"Open In Colab\"/></a>"
      ]
    },
    {
      "cell_type": "code",
      "source": [
        "import numpy as np\n",
        "import pandas as pd\n",
        "import matplotlib.pyplot as plt\n",
        "import seaborn as sns\n",
        "from sklearn.model_selection import train_test_split\n",
        "from sklearn.preprocessing import StandardScaler\n",
        "from sklearn.linear_model import LogisticRegression\n",
        "from sklearn.metrics import confusion_matrix, accuracy_score, classification_report\n",
        "\n",
        "data = pd.read_csv('marketing_data.csv')\n",
        "\n",
        "print(data.head())\n",
        "print(data.info())\n",
        "print(data.describe())\n",
        "\n",
        "X = data[['Age', 'Income', 'Clicks', 'Purchases']]\n",
        "y = data['Purchases']\n",
        "\n",
        "X_train, X_test, y_train, y_test = train_test_split(X, y, test_size=0.2, random_state=42)\n",
        "\n",
        "scaler = StandardScaler()\n",
        "X_train_scaled = scaler.fit_transform(X_train)\n",
        "X_test_scaled = scaler.transform(X_test)\n",
        "\n",
        "logistic_model = LogisticRegression()\n",
        "\n",
        "logistic_model.fit(X_train_scaled, y_train)\n",
        "\n",
        "y_pred = logistic_model.predict(X_test_scaled)\n",
        "\n",
        "conf_matrix = confusion_matrix(y_test, y_pred)\n",
        "\n",
        "plt.figure(figsize=(8, 6))\n",
        "sns.heatmap(conf_matrix, annot=True, fmt='d', cmap='Blues',  cbar = False)\n",
        "plt.xlabel('Predicted')\n",
        "plt.ylabel('Actual')\n",
        "plt.title('Confusion Matrix')\n",
        "plt.show()\n"
      ],
      "metadata": {
        "colab": {
          "base_uri": "https://localhost:8080/",
          "height": 1000
        },
        "id": "q-LpZ_t7zVi4",
        "outputId": "bd9e49ad-65e1-4b77-9ba8-bbbfcdd9e661"
      },
      "execution_count": null,
      "outputs": [
        {
          "output_type": "stream",
          "name": "stdout",
          "text": [
            "   CustomerID  Age         Income  Clicks  Purchases\n",
            "0        2295   19   61770.217668      96          5\n",
            "1        2385   66   72535.876847       1          0\n",
            "2        1942   67   31468.931781      34          9\n",
            "3        4280   48  119171.422879       9          2\n",
            "4        2033   54   50246.782698      63          8\n",
            "<class 'pandas.core.frame.DataFrame'>\n",
            "RangeIndex: 2000 entries, 0 to 1999\n",
            "Data columns (total 5 columns):\n",
            " #   Column      Non-Null Count  Dtype  \n",
            "---  ------      --------------  -----  \n",
            " 0   CustomerID  2000 non-null   int64  \n",
            " 1   Age         2000 non-null   int64  \n",
            " 2   Income      2000 non-null   float64\n",
            " 3   Clicks      2000 non-null   int64  \n",
            " 4   Purchases   2000 non-null   int64  \n",
            "dtypes: float64(1), int64(4)\n",
            "memory usage: 78.2 KB\n",
            "None\n",
            "        CustomerID          Age         Income       Clicks    Purchases\n",
            "count  2000.000000  2000.000000    2000.000000  2000.000000  2000.000000\n",
            "mean   5529.738500    43.148500   70022.511826    50.014500     4.451500\n",
            "std    2576.542638    15.086492   28662.031020    28.831388     2.887528\n",
            "min    1004.000000    18.000000   20011.864491     1.000000     0.000000\n",
            "25%    3291.750000    30.000000   44863.001493    24.000000     2.000000\n",
            "50%    5553.500000    43.000000   70824.446707    52.000000     5.000000\n",
            "75%    7761.500000    56.000000   94279.578861    74.000000     7.000000\n",
            "max    9998.000000    69.000000  119989.266671    99.000000     9.000000\n"
          ]
        },
        {
          "output_type": "display_data",
          "data": {
            "text/plain": [
              "<Figure size 800x600 with 1 Axes>"
            ],
            "image/png": "[encoded data removed]"
          },
          "metadata": {}
        }
      ]
    },
    {
      "cell_type": "code",
      "source": [
        "print(classification_report(y_test, y_pred))"
      ],
      "metadata": {
        "colab": {
          "base_uri": "https://localhost:8080/"
        },
        "id": "ECb9cU76zZc7",
        "outputId": "2e4228d1-f6d3-483f-d923-b9bc748f3126"
      },
      "execution_count": null,
      "outputs": [
        {
          "output_type": "stream",
          "name": "stdout",
          "text": [
            "              precision    recall  f1-score   support\n",
            "\n",
            "           0       1.00      1.00      1.00        39\n",
            "           1       1.00      1.00      1.00        43\n",
            "           2       1.00      1.00      1.00        30\n",
            "           3       0.97      1.00      0.99        37\n",
            "           4       1.00      0.79      0.89        39\n",
            "           5       0.87      1.00      0.93        48\n",
            "           6       1.00      1.00      1.00        43\n",
            "           7       1.00      0.93      0.96        40\n",
            "           8       0.93      1.00      0.96        38\n",
            "           9       1.00      1.00      1.00        43\n",
            "\n",
            "    accuracy                           0.97       400\n",
            "   macro avg       0.98      0.97      0.97       400\n",
            "weighted avg       0.98      0.97      0.97       400\n",
            "\n"
          ]
        }
      ]
    },
    {
      "cell_type": "code",
      "source": [
        "accuracy = accuracy_score(y_test, y_pred)\n",
        "print(f'Exactitud del modelo: {accuracy * 100:.2f}%')"
      ],
      "metadata": {
        "colab": {
          "base_uri": "https://localhost:8080/"
        },
        "id": "q9ygW9fT0DYp",
        "outputId": "3d830e77-7f6f-4ef0-885f-52f47ac4af79"
      },
      "execution_count": null,
      "outputs": [
        {
          "output_type": "stream",
          "name": "stdout",
          "text": [
            "Exactitud del modelo: 97.25%\n"
          ]
        }
      ]
    }
  ]
}